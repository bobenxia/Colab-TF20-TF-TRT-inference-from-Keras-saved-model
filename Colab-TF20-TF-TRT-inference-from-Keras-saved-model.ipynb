{
 "cells": [
  {
   "cell_type": "code",
   "execution_count": null,
   "metadata": {
    "id": "dR1W9kv7IPhE"
   },
   "outputs": [],
   "source": [
    "# Copyright 2019 NVIDIA Corporation. All Rights Reserved.\n",
    "#\n",
    "# Licensed under the Apache License, Version 2.0 (the \"License\");\n",
    "# you may not use this file except in compliance with the License.\n",
    "# You may obtain a copy of the License at\n",
    "#\n",
    "#     http://www.apache.org/licenses/LICENSE-2.0\n",
    "#\n",
    "# Unless required by applicable law or agreed to in writing, software\n",
    "# distributed under the License is distributed on an \"AS IS\" BASIS,\n",
    "# WITHOUT WARRANTIES OR CONDITIONS OF ANY KIND, either express or implied.\n",
    "# See the License for the specific language governing permissions and\n",
    "# limitations under the License.\n",
    "# =============================================================================="
   ]
  },
  {
   "cell_type": "markdown",
   "metadata": {
    "id": "Yb3TdMZAkVNq"
   },
   "source": [
    "<img src=\"http://developer.download.nvidia.com/compute/machine-learning/frameworks/nvidia_logo.png\" style=\"width: 90px; float: right;\">\n",
    "\n",
    "# TF-TRT Inference from Keras Model with TensorFlow 2.0\n",
    "\n",
    "\n",
    "## Introduction\n",
    "The NVIDIA TensorRT is a C++ library that facilitates high performance inference on NVIDIA graphics processing units (GPUs). TensorRT takes a trained network, which consists of a network definition and a set of trained parameters, and produces a highly optimized runtime engine which performs inference for that network. \n",
    "\n",
    "TensorFlow™ integration with TensorRT™ (TF-TRT) optimizes and executes compatible subgraphs, allowing TensorFlow to execute the remaining graph. While you can still use TensorFlow's wide and flexible feature set, TensorRT will parse the model and apply optimizations to the portions of the graph wherever possible.\n",
    "\n",
    "In this notebook, we demonstrate the process of creating a TF-TRT optimized model from a ResNet-50 Keras saved model.\n",
    "\n",
    "## Requirement\n",
    "\n",
    "### GPU\n",
    "\n",
    "Before running this notebook, please set the Colab runtime environment to GPU via the menu *Runtime => Change runtime type => GPU*.\n",
    "\n",
    "This demo will work on any NVIDIA GPU with CUDA cores, though for improved FP16 and INT8 inference, a Volta, Turing or newer generation GPU with Tensor cores is desired.  On Google Colab, this normally means a T4 GPU. If you are assigned an older K80 GPU, another trial at another time might give you a T4 GPU.\n"
   ]
  },
  {
   "cell_type": "code",
   "execution_count": 1,
   "metadata": {
    "colab": {
     "base_uri": "https://localhost:8080/",
     "height": 377
    },
    "executionInfo": {
     "elapsed": 2286,
     "status": "ok",
     "timestamp": 1602768316033,
     "user": {
      "displayName": "zheng xia",
      "photoUrl": "https://lh3.googleusercontent.com/a-/AOh14GiBstM3Z5ijp5oU9aelfr309Cab_6rQq9B3Uxfk=s64",
      "userId": "11788949152367707328"
     },
     "user_tz": -480
    },
    "id": "8Fg4x4aomCY4",
    "outputId": "a3ceb4f0-5d91-491d-f817-2e2a2322d6ca",
    "scrolled": false
   },
   "outputs": [
    {
     "name": "stdout",
     "output_type": "stream",
     "text": [
      "Sun Oct 18 13:25:41 2020       \r\n",
      "+-----------------------------------------------------------------------------+\r\n",
      "| NVIDIA-SMI 418.152.00   Driver Version: 418.152.00   CUDA Version: 10.1     |\r\n",
      "|-------------------------------+----------------------+----------------------+\r\n",
      "| GPU  Name        Persistence-M| Bus-Id        Disp.A | Volatile Uncorr. ECC |\r\n",
      "| Fan  Temp  Perf  Pwr:Usage/Cap|         Memory-Usage | GPU-Util  Compute M. |\r\n",
      "|===============================+======================+======================|\r\n",
      "|   0  GeForce RTX 2060    Off  | 00000000:26:00.0  On |                  N/A |\r\n",
      "| 39%   30C    P8     9W / 160W |    855MiB /  5901MiB |      9%      Default |\r\n",
      "+-------------------------------+----------------------+----------------------+\r\n",
      "                                                                               \r\n",
      "+-----------------------------------------------------------------------------+\r\n",
      "| Processes:                                                       GPU Memory |\r\n",
      "|  GPU       PID   Type   Process name                             Usage      |\r\n",
      "|=============================================================================|\r\n",
      "|    0      1082      G   /usr/lib/xorg/Xorg                           275MiB |\r\n",
      "|    0      1427      G   /usr/bin/gnome-shell                          66MiB |\r\n",
      "|    0      2066      G   /usr/local/sunlogin/bin/sunloginclient         6MiB |\r\n",
      "|    0      2393      G   ...AAAAAAAAAAAAAAgAAAAAAAAA --shared-files    87MiB |\r\n",
      "|    0      3570      G   ...AAAAAAAAAAAACAAAAAAAAAA= --shared-files   418MiB |\r\n",
      "+-----------------------------------------------------------------------------+\r\n"
     ]
    }
   ],
   "source": [
    "!nvidia-smi"
   ]
  },
  {
   "cell_type": "markdown",
   "metadata": {
    "id": "LG4IBNn-2PWY"
   },
   "source": [
    "### Install TensorFlow-GPU 2.1"
   ]
  },
  {
   "cell_type": "code",
   "execution_count": 2,
   "metadata": {
    "colab": {
     "base_uri": "https://localhost:8080/",
     "height": 1000
    },
    "executionInfo": {
     "elapsed": 74119,
     "status": "ok",
     "timestamp": 1602669425627,
     "user": {
      "displayName": "",
      "photoUrl": "",
      "userId": ""
     },
     "user_tz": -480
    },
    "id": "rL9Sz1GhkVNz",
    "outputId": "90adb392-5aa3-449c-cb08-ef69c1c7bf4e"
   },
   "outputs": [
    {
     "name": "stdout",
     "output_type": "stream",
     "text": [
      "Collecting package metadata (current_repodata.json): done\n",
      "Solving environment: done\n",
      "\n",
      "# All requested packages already installed.\n",
      "\n",
      "Collecting package metadata (current_repodata.json): done\n",
      "Solving environment: done\n",
      "\n",
      "# All requested packages already installed.\n",
      "\n"
     ]
    }
   ],
   "source": [
    "!conda install -y pillow matplotlib\n",
    "!conda install -y tensorflow-gpu==2.1.0"
   ]
  },
  {
   "cell_type": "code",
   "execution_count": 2,
   "metadata": {
    "colab": {
     "base_uri": "https://localhost:8080/",
     "height": 34
    },
    "executionInfo": {
     "elapsed": 72484,
     "status": "ok",
     "timestamp": 1602669427220,
     "user": {
      "displayName": "",
      "photoUrl": "",
      "userId": ""
     },
     "user_tz": -480
    },
    "id": "v0mfnfqg3ned",
    "outputId": "321912ea-b469-409b-ee77-c9ac6b2801cd"
   },
   "outputs": [
    {
     "name": "stdout",
     "output_type": "stream",
     "text": [
      "Tensorflow version:  2.1.0\n"
     ]
    }
   ],
   "source": [
    "import tensorflow as tf\n",
    "print(\"Tensorflow version: \", tf.version.VERSION)"
   ]
  },
  {
   "cell_type": "markdown",
   "metadata": {
    "id": "KIBqZ3-Rlibh"
   },
   "source": [
    "### Install TensorRT Runtime"
   ]
  },
  {
   "cell_type": "markdown",
   "metadata": {},
   "source": [
    "使用jupyter notebook安装有点问题，还是建议提前装好"
   ]
  },
  {
   "cell_type": "code",
   "execution_count": 7,
   "metadata": {
    "colab": {
     "base_uri": "https://localhost:8080/",
     "height": 1000
    },
    "executionInfo": {
     "elapsed": 19871,
     "status": "ok",
     "timestamp": 1602669564274,
     "user": {
      "displayName": "",
      "photoUrl": "",
      "userId": ""
     },
     "user_tz": -480
    },
    "id": "BlaPmL1JllHC",
    "outputId": "19574e6d-2207-4db3-c354-c3b35d2446e2"
   },
   "outputs": [
    {
     "name": "stdout",
     "output_type": "stream",
     "text": [
      "正在读取软件包列表...\n"
     ]
    },
    {
     "name": "stderr",
     "output_type": "stream",
     "text": [
      "--2020-10-18 13:45:55--  https://developer.download.nvidia.com/compute/machine-learning/repos/ubuntu1804/x86_64/nvidia-machine-learning-repo-ubuntu1804_1.0.0-1_amd64.deb\n",
      "正在解析主机 developer.download.nvidia.com (developer.download.nvidia.com)... 129.227.66.139, 129.227.66.140\n",
      "正在连接 developer.download.nvidia.com (developer.download.nvidia.com)|129.227.66.139|:443... 已连接。\n",
      "已发出 HTTP 请求，正在等待回应... 301 Moved Permanently\n",
      "位置：https://developer.download.nvidia.cn/compute/machine-learning/repos/ubuntu1804/x86_64/nvidia-machine-learning-repo-ubuntu1804_1.0.0-1_amd64.deb [跟随至新的 URL]\n",
      "--2020-10-18 13:46:01--  https://developer.download.nvidia.cn/compute/machine-learning/repos/ubuntu1804/x86_64/nvidia-machine-learning-repo-ubuntu1804_1.0.0-1_amd64.deb\n",
      "正在解析主机 developer.download.nvidia.cn (developer.download.nvidia.cn)... 202.194.101.19\n",
      "正在连接 developer.download.nvidia.cn (developer.download.nvidia.cn)|202.194.101.19|:443... 已连接。\n",
      "已发出 HTTP 请求，正在等待回应... 200 OK\n",
      "长度： 2926 (2.9K) [application/x-deb]\n",
      "正在保存至: “nvidia-machine-learning-repo-ubuntu1804_1.0.0-1_amd64.deb.1”\n",
      "\n",
      "     0K ..                                                    100% 1.71G=0s\n",
      "\n",
      "2020-10-18 13:46:04 (1.71 GB/s) - 已保存 “nvidia-machine-learning-repo-ubuntu1804_1.0.0-1_amd64.deb.1” [2926/2926])\n",
      "\n",
      "sudo: 没有终端存在，且未指定 askpass 程序\n",
      "E: 无法打开锁文件 /var/lib/apt/lists/lock - open (13: 权限不够)\n",
      "E: 无法对目录 /var/lib/apt/lists/ 加锁\n",
      "W: 用 unlink 删除文件 /var/cache/apt/pkgcache.bin 出错 - RemoveCaches (13: 权限不够)\n",
      "W: 用 unlink 删除文件 /var/cache/apt/srcpkgcache.bin 出错 - RemoveCaches (13: 权限不够)\n",
      "sudo: 没有终端存在，且未指定 askpass 程序\n"
     ]
    }
   ],
   "source": [
    "%%bash\n",
    "wget https://developer.download.nvidia.com/compute/machine-learning/repos/ubuntu1804/x86_64/nvidia-machine-learning-repo-ubuntu1804_1.0.0-1_amd64.deb\n",
    "\n",
    "sudo dpkg -i nvidia-machine-learning-repo-*.deb\n",
    "apt-get update\n",
    "\n",
    "sudo apt-get install libnvinfer6"
   ]
  },
  {
   "cell_type": "code",
   "execution_count": 9,
   "metadata": {
    "colab": {
     "base_uri": "https://localhost:8080/",
     "height": 50
    },
    "executionInfo": {
     "elapsed": 1125,
     "status": "ok",
     "timestamp": 1602669621480,
     "user": {
      "displayName": "",
      "photoUrl": "",
      "userId": ""
     },
     "user_tz": -480
    },
    "id": "kyW580EYkVOP",
    "outputId": "183a1079-10bb-4b68-9f3d-650f0811e87c"
   },
   "outputs": [
    {
     "name": "stdout",
     "output_type": "stream",
     "text": [
      "TensorRT version: \n",
      "ii  libnvinfer-bin                                               6.0.1-1+cuda10.1                                 amd64        TensorRT binaries\r\n",
      "ii  libnvinfer-dev                                               6.0.1-1+cuda10.1                                 amd64        TensorRT development libraries and headers\r\n",
      "ii  libnvinfer-doc                                               6.0.1-1+cuda10.1                                 all          TensorRT documentation\r\n",
      "ii  libnvinfer-plugin-dev                                        6.0.1-1+cuda10.1                                 amd64        TensorRT plugin libraries\r\n",
      "ii  libnvinfer-plugin6                                           6.0.1-1+cuda10.1                                 amd64        TensorRT plugin libraries\r\n",
      "ii  libnvinfer-samples                                           6.0.1-1+cuda10.1                                 all          TensorRT samples\r\n",
      "ii  libnvinfer6                                                  6.0.1-1+cuda10.1                                 amd64        TensorRT runtime libraries\r\n"
     ]
    }
   ],
   "source": [
    "# check TensorRT version\n",
    "print(\"TensorRT version: \")\n",
    "!dpkg -l | grep nvinfer"
   ]
  },
  {
   "cell_type": "markdown",
   "metadata": {
    "id": "9U8b2394CZRu"
   },
   "source": [
    "A successfull TensorRT installation looks like:\n",
    "\n",
    "```\n",
    "TensorRT version: \n",
    "ii  libnvinfer5   5.1.5-1+cuda10.1   amd64        TensorRT runtime libraries\n",
    "```"
   ]
  },
  {
   "cell_type": "markdown",
   "metadata": {},
   "source": [
    "### note!\n",
    "There are some questions about RTX 20 series graphics cards:\n",
    "`2018-12-20 20:09:13.644176: E tensorflow/stream_executor/cuda/cuda_dnn.cc:334] Could not create cudnn handle: CUDNN_STATUS_INTERNAL_ERROR`\n",
    "\n",
    "So please run the following command："
   ]
  },
  {
   "cell_type": "code",
   "execution_count": 3,
   "metadata": {},
   "outputs": [
    {
     "name": "stdout",
     "output_type": "stream",
     "text": [
      "[PhysicalDevice(name='/physical_device:GPU:0', device_type='GPU')]\n"
     ]
    }
   ],
   "source": [
    "import tensorflow as tf\n",
    "\n",
    "gpus= tf.config.list_physical_devices('GPU')\n",
    "print(gpus) \n",
    "tf.config.experimental.set_memory_growth(gpus[0], True) "
   ]
  },
  {
   "cell_type": "markdown",
   "metadata": {
    "id": "SeekwaXj4CbI"
   },
   "source": [
    "### Check Tensor core GPU\n",
    "The below code check whether a Tensor-core GPU is present."
   ]
  },
  {
   "cell_type": "code",
   "execution_count": 4,
   "metadata": {
    "colab": {
     "base_uri": "https://localhost:8080/",
     "height": 34
    },
    "executionInfo": {
     "elapsed": 846,
     "status": "ok",
     "timestamp": 1602669645926,
     "user": {
      "displayName": "",
      "photoUrl": "",
      "userId": ""
     },
     "user_tz": -480
    },
    "id": "VHLld1VNkVOa",
    "outputId": "73678fcc-d211-4d3d-b6dc-2d76de94b089"
   },
   "outputs": [
    {
     "name": "stdout",
     "output_type": "stream",
     "text": [
      "Tensor Core GPU Present: True\n"
     ]
    }
   ],
   "source": [
    "from tensorflow.python.client import device_lib\n",
    "\n",
    "def check_tensor_core_gpu_present():\n",
    "    local_device_protos = device_lib.list_local_devices()\n",
    "    for line in local_device_protos:\n",
    "        if \"compute capability\" in str(line):\n",
    "            compute_capability = float(line.physical_device_desc.split(\"compute capability: \")[-1])\n",
    "            if compute_capability>=7.0:\n",
    "                return True\n",
    "    \n",
    "print(\"Tensor Core GPU Present:\", check_tensor_core_gpu_present())\n",
    "tensor_core_gpu = check_tensor_core_gpu_present()"
   ]
  },
  {
   "cell_type": "markdown",
   "metadata": {
    "id": "nWYufTjPCMgW"
   },
   "source": [
    "### Importing required libraries"
   ]
  },
  {
   "cell_type": "code",
   "execution_count": 2,
   "metadata": {
    "id": "Yyzwxjlm37jx"
   },
   "outputs": [],
   "source": [
    "from __future__ import absolute_import, division, print_function, unicode_literals\n",
    "import os\n",
    "import time\n",
    "\n",
    "import numpy as np\n",
    "import matplotlib.pyplot as plt\n",
    "\n",
    "import tensorflow as tf\n",
    "from tensorflow import keras\n",
    "from tensorflow.python.compiler.tensorrt import trt_convert as trt\n",
    "from tensorflow.python.saved_model import tag_constants\n",
    "from tensorflow.keras.preprocessing import image\n",
    "\n",
    "from tensorflow.keras.applications.resnet50 import ResNet50\n",
    "from tensorflow.keras.applications.resnet50 import preprocess_input, decode_predictions"
   ]
  },
  {
   "cell_type": "markdown",
   "metadata": {
    "id": "v-R2iN4akVOi"
   },
   "source": [
    "## Data\n",
    "We download several random images for testing from the Internet."
   ]
  },
  {
   "cell_type": "code",
   "execution_count": null,
   "metadata": {
    "colab": {
     "base_uri": "https://localhost:8080/",
     "height": 756
    },
    "executionInfo": {
     "elapsed": 2991,
     "status": "ok",
     "timestamp": 1602669658904,
     "user": {
      "displayName": "",
      "photoUrl": "",
      "userId": ""
     },
     "user_tz": -480
    },
    "id": "tVJ2-8rokVOl",
    "outputId": "11efa950-e051-44ca-d64b-a5acf5c4318c"
   },
   "outputs": [
    {
     "name": "stdout",
     "output_type": "stream",
     "text": [
      "--2020-10-15 22:27:23--  https://d17fnq9dkz9hgj.cloudfront.net/breed-uploads/2018/08/siberian-husky-detail.jpg?bust=1535566590&width=630\n",
      "正在解析主机 d17fnq9dkz9hgj.cloudfront.net (d17fnq9dkz9hgj.cloudfront.net)... 99.84.106.187, 99.84.106.134, 99.84.106.76, ...\n",
      "正在连接 d17fnq9dkz9hgj.cloudfront.net (d17fnq9dkz9hgj.cloudfront.net)|99.84.106.187|:443... 已连接。\n",
      "已发出 HTTP 请求，正在等待回应... 200 OK\n",
      "长度： 24112 (24K) [image/jpeg]\n",
      "正在保存至: “./data/img0.JPG”\n",
      "\n",
      "./data/img0.JPG     100%[===================>]  23.55K  --.-KB/s    用时 0.08s   \n",
      "\n",
      "2020-10-15 22:27:25 (291 KB/s) - 已保存 “./data/img0.JPG” [24112/24112])\n",
      "\n",
      "--2020-10-15 22:27:25--  https://www.hakaimagazine.com/wp-content/uploads/header-gulf-birds.jpg\n",
      "正在解析主机 www.hakaimagazine.com (www.hakaimagazine.com)... 2620:12a:8001::4, 2620:12a:8000::4, 23.185.0.4\n",
      "正在连接 www.hakaimagazine.com (www.hakaimagazine.com)|2620:12a:8001::4|:443... ^C\n",
      "--2020-10-15 22:27:37--  https://www.artis.nl/media/filer_public_thumbnails/filer_public/00/f1/00f1b6db-fbed-4fef-9ab0-84e944ff11f8/chimpansee_amber_r_1920x1080.jpg__1920x1080_q85_subject_location-923%2C365_subsampling-2.jpg\n",
      "正在解析主机 www.artis.nl (www.artis.nl)... 94.75.225.20\n",
      "正在连接 www.artis.nl (www.artis.nl)|94.75.225.20|:443... 已连接。\n",
      "已发出 HTTP 请求，正在等待回应... "
     ]
    }
   ],
   "source": [
    "!mkdir ./data\n",
    "!wget  -O ./data/img0.JPG \"https://d17fnq9dkz9hgj.cloudfront.net/breed-uploads/2018/08/siberian-husky-detail.jpg?bust=1535566590&width=630\"\n",
    "!wget  -O ./data/img1.JPG \"https://www.hakaimagazine.com/wp-content/uploads/header-gulf-birds.jpg\"\n",
    "!wget  -O ./data/img2.JPG \"https://www.artis.nl/media/filer_public_thumbnails/filer_public/00/f1/00f1b6db-fbed-4fef-9ab0-84e944ff11f8/chimpansee_amber_r_1920x1080.jpg__1920x1080_q85_subject_location-923%2C365_subsampling-2.jpg\"\n",
    "!wget  -O ./data/img3.JPG \"https://www.familyhandyman.com/wp-content/uploads/2018/09/How-to-Avoid-Snakes-Slithering-Up-Your-Toilet-shutterstock_780480850.jpg\""
   ]
  },
  {
   "cell_type": "code",
   "execution_count": 8,
   "metadata": {
    "colab": {
     "base_uri": "https://localhost:8080/",
     "height": 248
    },
    "executionInfo": {
     "elapsed": 1633,
     "status": "ok",
     "timestamp": 1602669663559,
     "user": {
      "displayName": "",
      "photoUrl": "",
      "userId": ""
     },
     "user_tz": -480
    },
    "id": "F_9n-AR1kVOv",
    "outputId": "8c3dfdec-8001-4f57-c092-3d6d40f0bff3"
   },
   "outputs": [
    {
     "data": {
      "image/png": "[encoded data removed]",
      "text/plain": [
       "<Figure size 432x288 with 4 Axes>"
      ]
     },
     "metadata": {
      "needs_background": "light"
     },
     "output_type": "display_data"
    }
   ],
   "source": [
    "from tensorflow.keras.preprocessing import image\n",
    "\n",
    "fig, axes = plt.subplots(nrows=2, ncols=2)\n",
    "\n",
    "for i in range(4):\n",
    "  img_path = './data/img%d.JPG'%i\n",
    "  img = image.load_img(img_path, target_size=(224, 224))\n",
    "  plt.subplot(2,2,i+1)\n",
    "  plt.imshow(img);\n",
    "  plt.axis('off');"
   ]
  },
  {
   "cell_type": "markdown",
   "metadata": {
    "id": "xeV4r2YTkVO1"
   },
   "source": [
    "## Model\n",
    "\n",
    "We next download and test a ResNet-50 pre-trained model from the Keras model zoo."
   ]
  },
  {
   "cell_type": "code",
   "execution_count": 7,
   "metadata": {
    "colab": {
     "base_uri": "https://localhost:8080/",
     "height": 50
    },
    "executionInfo": {
     "elapsed": 5937,
     "status": "ok",
     "timestamp": 1602669672611,
     "user": {
      "displayName": "",
      "photoUrl": "",
      "userId": ""
     },
     "user_tz": -480
    },
    "id": "WwRBOikEkVO3",
    "outputId": "dea2fdb9-d360-49c0-fb55-c90e1c52a3ea"
   },
   "outputs": [],
   "source": [
    "model = ResNet50(weights='imagenet')"
   ]
  },
  {
   "cell_type": "code",
   "execution_count": 8,
   "metadata": {
    "colab": {
     "base_uri": "https://localhost:8080/",
     "height": 365
    },
    "executionInfo": {
     "elapsed": 9125,
     "status": "ok",
     "timestamp": 1602669689480,
     "user": {
      "displayName": "",
      "photoUrl": "",
      "userId": ""
     },
     "user_tz": -480
    },
    "id": "lFKQPoLO_ikd",
    "outputId": "64ea738c-a911-46fa-d2e7-ad1df5fb52a0"
   },
   "outputs": [
    {
     "name": "stdout",
     "output_type": "stream",
     "text": [
      "./data/img0.JPG - Predicted: [('n02110185', 'Siberian_husky', 0.55662036), ('n02109961', 'Eskimo_dog', 0.41737312), ('n02110063', 'malamute', 0.020951573)]\n",
      "./data/img1.JPG - Predicted: [('n01820546', 'lorikeet', 0.3013899), ('n01537544', 'indigo_bunting', 0.16979557), ('n01828970', 'bee_eater', 0.16134147)]\n",
      "./data/img2.JPG - Predicted: [('n02481823', 'chimpanzee', 0.5149864), ('n02480495', 'orangutan', 0.15896703), ('n02480855', 'gorilla', 0.15318154)]\n",
      "./data/img3.JPG - Predicted: [('n01729977', 'green_snake', 0.41596174), ('n03627232', 'knot', 0.10065208), ('n01749939', 'green_mamba', 0.067050025)]\n"
     ]
    },
    {
     "data": {
      "image/png": "[encoded data removed]",
      "text/plain": [
       "<Figure size 432x288 with 4 Axes>"
      ]
     },
     "metadata": {
      "needs_background": "light"
     },
     "output_type": "display_data"
    }
   ],
   "source": [
    "for i in range(4):\n",
    "  img_path = './data/img%d.JPG'%i\n",
    "  img = image.load_img(img_path, target_size=(224, 224))\n",
    "  x = image.img_to_array(img)\n",
    "  x = np.expand_dims(x, axis=0)\n",
    "  x = preprocess_input(x)\n",
    "\n",
    "  preds = model.predict(x)\n",
    "  # decode the results into a list of tuples (class, description, probability)\n",
    "  # (one such list for each sample in the batch)\n",
    "  print('{} - Predicted: {}'.format(img_path, decode_predictions(preds, top=3)[0]))\n",
    "\n",
    "  plt.subplot(2,2,i+1)\n",
    "  plt.imshow(img);\n",
    "  plt.axis('off');\n",
    "  plt.title(decode_predictions(preds, top=3)[0][0][1])\n",
    "    "
   ]
  },
  {
   "cell_type": "markdown",
   "metadata": {
    "id": "XrL3FEcdkVPA"
   },
   "source": [
    "TF-TRT takes input as aTensorFlow saved model, therefore, we re-export the Keras model as a TF saved model."
   ]
  },
  {
   "cell_type": "code",
   "execution_count": 6,
   "metadata": {
    "colab": {
     "base_uri": "https://localhost:8080/",
     "height": 104
    },
    "executionInfo": {
     "elapsed": 26243,
     "status": "ok",
     "timestamp": 1602669721617,
     "user": {
      "displayName": "",
      "photoUrl": "",
      "userId": ""
     },
     "user_tz": -480
    },
    "id": "WxlUF3rlkVPH",
    "outputId": "28351c76-6112-40cf-b97f-3baf2aaae016"
   },
   "outputs": [
    {
     "name": "stdout",
     "output_type": "stream",
     "text": [
      "WARNING:tensorflow:From /home/xia/software/miniconda3/envs/trt_713/lib/python3.7/site-packages/tensorflow_core/python/ops/resource_variable_ops.py:1781: calling BaseResourceVariable.__init__ (from tensorflow.python.ops.resource_variable_ops) with constraint is deprecated and will be removed in a future version.\n",
      "Instructions for updating:\n",
      "If using Keras pass *_constraint arguments to layers.\n",
      "INFO:tensorflow:Assets written to: resnet50_saved_model/assets\n"
     ]
    }
   ],
   "source": [
    "# Save the entire model as a SavedModel.\n",
    "model.save('resnet50_saved_model') "
   ]
  },
  {
   "cell_type": "code",
   "execution_count": 8,
   "metadata": {
    "colab": {
     "base_uri": "https://localhost:8080/",
     "height": 453
    },
    "id": "RBu2RKs6kVPP",
    "outputId": "8e063261-7efb-47fd-fa6c-1bb5076d418c"
   },
   "outputs": [
    {
     "name": "stdout",
     "output_type": "stream",
     "text": [
      "\n",
      "MetaGraphDef with tag-set: 'serve' contains the following SignatureDefs:\n",
      "\n",
      "signature_def['__saved_model_init_op']:\n",
      "  The given SavedModel SignatureDef contains the following input(s):\n",
      "  The given SavedModel SignatureDef contains the following output(s):\n",
      "    outputs['__saved_model_init_op'] tensor_info:\n",
      "        dtype: DT_INVALID\n",
      "        shape: unknown_rank\n",
      "        name: NoOp\n",
      "  Method name is: \n",
      "\n",
      "signature_def['serving_default']:\n",
      "  The given SavedModel SignatureDef contains the following input(s):\n",
      "    inputs['input_1'] tensor_info:\n",
      "        dtype: DT_FLOAT\n",
      "        shape: (-1, 224, 224, 3)\n",
      "        name: serving_default_input_1:0\n",
      "  The given SavedModel SignatureDef contains the following output(s):\n",
      "    outputs['probs'] tensor_info:\n",
      "        dtype: DT_FLOAT\n",
      "        shape: (-1, 1000)\n",
      "        name: StatefulPartitionedCall:0\n",
      "  Method name is: tensorflow/serving/predict\n"
     ]
    }
   ],
   "source": [
    "!saved_model_cli show --all --dir resnet50_saved_model"
   ]
  },
  {
   "cell_type": "markdown",
   "metadata": {
    "id": "qBQwBvlNm-J8"
   },
   "source": [
    "### Inference with native TF2.0 saved model"
   ]
  },
  {
   "cell_type": "code",
   "execution_count": 5,
   "metadata": {
    "id": "8zLN0GMCkVPe"
   },
   "outputs": [],
   "source": [
    "model = tf.keras.models.load_model('resnet50_saved_model')"
   ]
  },
  {
   "cell_type": "code",
   "execution_count": 7,
   "metadata": {
    "colab": {
     "base_uri": "https://localhost:8080/",
     "height": 219
    },
    "id": "Fbj-UEOxkVPs",
    "outputId": "3a2b34f9-8034-48cb-b3fe-477f09966025"
   },
   "outputs": [
    {
     "ename": "NameError",
     "evalue": "name 'image' is not defined",
     "output_type": "error",
     "traceback": [
      "\u001b[0;31m---------------------------------------------------------------------------\u001b[0m",
      "\u001b[0;31mNameError\u001b[0m                                 Traceback (most recent call last)",
      "\u001b[0;32m<ipython-input-7-60f24c5c8b7a>\u001b[0m in \u001b[0;36m<module>\u001b[0;34m()\u001b[0m\n\u001b[1;32m      1\u001b[0m \u001b[0mimg_path\u001b[0m \u001b[0;34m=\u001b[0m \u001b[0;34m'./data/img0.JPG'\u001b[0m  \u001b[0;31m# Siberian_husky\u001b[0m\u001b[0;34m\u001b[0m\u001b[0;34m\u001b[0m\u001b[0m\n\u001b[0;32m----> 2\u001b[0;31m \u001b[0mimg\u001b[0m \u001b[0;34m=\u001b[0m \u001b[0mimage\u001b[0m\u001b[0;34m.\u001b[0m\u001b[0mload_img\u001b[0m\u001b[0;34m(\u001b[0m\u001b[0mimg_path\u001b[0m\u001b[0;34m,\u001b[0m \u001b[0mtarget_size\u001b[0m\u001b[0;34m=\u001b[0m\u001b[0;34m(\u001b[0m\u001b[0;36m224\u001b[0m\u001b[0;34m,\u001b[0m \u001b[0;36m224\u001b[0m\u001b[0;34m)\u001b[0m\u001b[0;34m)\u001b[0m\u001b[0;34m\u001b[0m\u001b[0;34m\u001b[0m\u001b[0m\n\u001b[0m\u001b[1;32m      3\u001b[0m \u001b[0mx\u001b[0m \u001b[0;34m=\u001b[0m \u001b[0mimage\u001b[0m\u001b[0;34m.\u001b[0m\u001b[0mimg_to_array\u001b[0m\u001b[0;34m(\u001b[0m\u001b[0mimg\u001b[0m\u001b[0;34m)\u001b[0m\u001b[0;34m\u001b[0m\u001b[0;34m\u001b[0m\u001b[0m\n\u001b[1;32m      4\u001b[0m \u001b[0mx\u001b[0m \u001b[0;34m=\u001b[0m \u001b[0mnp\u001b[0m\u001b[0;34m.\u001b[0m\u001b[0mexpand_dims\u001b[0m\u001b[0;34m(\u001b[0m\u001b[0mx\u001b[0m\u001b[0;34m,\u001b[0m \u001b[0maxis\u001b[0m\u001b[0;34m=\u001b[0m\u001b[0;36m0\u001b[0m\u001b[0;34m)\u001b[0m\u001b[0;34m\u001b[0m\u001b[0;34m\u001b[0m\u001b[0m\n\u001b[1;32m      5\u001b[0m \u001b[0mx\u001b[0m \u001b[0;34m=\u001b[0m \u001b[0mpreprocess_input\u001b[0m\u001b[0;34m(\u001b[0m\u001b[0mx\u001b[0m\u001b[0;34m)\u001b[0m\u001b[0;34m\u001b[0m\u001b[0;34m\u001b[0m\u001b[0m\n",
      "\u001b[0;31mNameError\u001b[0m: name 'image' is not defined"
     ]
    }
   ],
   "source": [
    "img_path = './data/img0.JPG'  # Siberian_husky\n",
    "img = image.load_img(img_path, target_size=(224, 224))\n",
    "x = image.img_to_array(img)\n",
    "x = np.expand_dims(x, axis=0)\n",
    "x = preprocess_input(x)\n",
    "\n",
    "preds = model.predict(x)\n",
    "# decode the results into a list of tuples (class, description, probability)\n",
    "# (one such list for each sample in the batch)\n",
    "print('{} - Predicted: {}'.format(img_path, decode_predictions(preds, top=3)[0]))\n",
    "plt.subplot(2,2,1)\n",
    "plt.imshow(img);\n",
    "plt.axis('off');\n",
    "plt.title(decode_predictions(preds, top=3)[0][0][1])"
   ]
  },
  {
   "cell_type": "code",
   "execution_count": 8,
   "metadata": {
    "colab": {
     "base_uri": "https://localhost:8080/",
     "height": 34
    },
    "executionInfo": {
     "elapsed": 869,
     "status": "ok",
     "timestamp": 1602669803903,
     "user": {
      "displayName": "",
      "photoUrl": "",
      "userId": ""
     },
     "user_tz": -480
    },
    "id": "CGc-dC6DvwRP",
    "outputId": "e09142b8-ab3a-42f3-872a-676e3bdd617f"
   },
   "outputs": [
    {
     "name": "stdout",
     "output_type": "stream",
     "text": [
      "batched_input shape:  (8, 224, 224, 3)\n"
     ]
    }
   ],
   "source": [
    "batch_size = 8\n",
    "batched_input = np.zeros((batch_size, 224, 224, 3), dtype=np.float32)\n",
    "\n",
    "for i in range(batch_size):\n",
    "  img_path = './data/img%d.JPG' % (i % 4)\n",
    "  img = image.load_img(img_path, target_size=(224, 224))\n",
    "  x = image.img_to_array(img)\n",
    "  x = np.expand_dims(x, axis=0)\n",
    "  x = preprocess_input(x)\n",
    "  batched_input[i, :] = x\n",
    "batched_input = tf.constant(batched_input)\n",
    "print('batched_input shape: ', batched_input.shape)"
   ]
  },
  {
   "cell_type": "code",
   "execution_count": 8,
   "metadata": {
    "colab": {
     "base_uri": "https://localhost:8080/",
     "height": 370
    },
    "executionInfo": {
     "elapsed": 38569,
     "status": "ok",
     "timestamp": 1602669845285,
     "user": {
      "displayName": "",
      "photoUrl": "",
      "userId": ""
     },
     "user_tz": -480
    },
    "id": "rFBV6hQR7N3z",
    "outputId": "300e07b7-3b30-426a-8e5b-01a14831d3f7"
   },
   "outputs": [
    {
     "name": "stdout",
     "output_type": "stream",
     "text": [
      "Step 0: 38.0ms\n",
      "Step 50: 37.3ms\n",
      "Step 100: 36.4ms\n",
      "Step 150: 36.6ms\n",
      "Step 200: 36.6ms\n",
      "Step 250: 38.8ms\n",
      "Step 300: 38.8ms\n",
      "Step 350: 37.9ms\n",
      "Step 400: 37.2ms\n",
      "Step 450: 39.7ms\n",
      "Step 500: 41.2ms\n",
      "Step 550: 40.9ms\n",
      "Step 600: 39.4ms\n",
      "Step 650: 38.8ms\n",
      "Step 700: 39.9ms\n",
      "Step 750: 39.0ms\n",
      "Step 800: 39.2ms\n",
      "Step 850: 39.7ms\n",
      "Step 900: 39.6ms\n",
      "Step 950: 37.6ms\n",
      "Throughput: 206 images/s\n"
     ]
    }
   ],
   "source": [
    "# Benchmarking throughput\n",
    "N_warmup_run = 50\n",
    "N_run = 1000\n",
    "elapsed_time = []\n",
    "\n",
    "for i in range(N_warmup_run):\n",
    "  preds = model.predict(batched_input)\n",
    "\n",
    "for i in range(N_run):\n",
    "  start_time = time.time()\n",
    "  preds = model.predict(batched_input)\n",
    "  end_time = time.time()\n",
    "  elapsed_time = np.append(elapsed_time, end_time - start_time)\n",
    "  if i % 50 == 0:\n",
    "    print('Step {}: {:4.1f}ms'.format(i, (elapsed_time[-50:].mean()) * 1000))\n",
    "\n",
    "print('Throughput: {:.0f} images/s'.format(N_run * batch_size / elapsed_time.sum()))"
   ]
  },
  {
   "cell_type": "markdown",
   "metadata": {
    "id": "vC_RN0BAkVPy"
   },
   "source": [
    "### TF-TRT FP32 model\n",
    "\n",
    "We first convert the TF native FP32 model to a TF-TRT FP32 model."
   ]
  },
  {
   "cell_type": "code",
   "execution_count": 3,
   "metadata": {
    "colab": {
     "base_uri": "https://localhost:8080/",
     "height": 118
    },
    "executionInfo": {
     "elapsed": 23038,
     "status": "ok",
     "timestamp": 1602669872996,
     "user": {
      "displayName": "",
      "photoUrl": "",
      "userId": ""
     },
     "user_tz": -480
    },
    "id": "0eLImSJ-kVPz",
    "outputId": "7eb9d860-c557-4713-dfb8-8b5b290f3587"
   },
   "outputs": [
    {
     "name": "stdout",
     "output_type": "stream",
     "text": [
      "Converting to TF-TRT FP32...\n",
      "INFO:tensorflow:Linked TensorRT version: (0, 0, 0)\n",
      "INFO:tensorflow:Loaded TensorRT version: (0, 0, 0)\n",
      "WARNING:tensorflow:From /home/xia/software/miniconda3/envs/tf_2.1/lib/python3.7/site-packages/tensorflow_core/python/ops/resource_variable_ops.py:1786: calling BaseResourceVariable.__init__ (from tensorflow.python.ops.resource_variable_ops) with constraint is deprecated and will be removed in a future version.\n",
      "Instructions for updating:\n",
      "If using Keras pass *_constraint arguments to layers.\n",
      "INFO:tensorflow:Assets written to: resnet50_saved_model_TFTRT_FP32/assets\n",
      "Done Converting to TF-TRT FP32\n"
     ]
    }
   ],
   "source": [
    "print('Converting to TF-TRT FP32...')\n",
    "conversion_params = trt.DEFAULT_TRT_CONVERSION_PARAMS._replace(precision_mode=trt.TrtPrecisionMode.FP32,\n",
    "                                                               max_workspace_size_bytes=8000000000)\n",
    "\n",
    "converter = trt.TrtGraphConverterV2(input_saved_model_dir='resnet50_saved_model',\n",
    "                                    conversion_params=conversion_params)\n",
    "converter.convert()\n",
    "converter.save(output_saved_model_dir='resnet50_saved_model_TFTRT_FP32')\n",
    "print('Done Converting to TF-TRT FP32')"
   ]
  },
  {
   "cell_type": "code",
   "execution_count": 4,
   "metadata": {
    "colab": {
     "base_uri": "https://localhost:8080/",
     "height": 420
    },
    "executionInfo": {
     "elapsed": 4592,
     "status": "ok",
     "timestamp": 1602669882276,
     "user": {
      "displayName": "",
      "photoUrl": "",
      "userId": ""
     },
     "user_tz": -480
    },
    "id": "dlue_3npkVQC",
    "outputId": "4d133a48-d8c2-4185-ccab-108223419fc5"
   },
   "outputs": [
    {
     "name": "stdout",
     "output_type": "stream",
     "text": [
      "\n",
      "MetaGraphDef with tag-set: 'serve' contains the following SignatureDefs:\n",
      "\n",
      "signature_def['__saved_model_init_op']:\n",
      "  The given SavedModel SignatureDef contains the following input(s):\n",
      "  The given SavedModel SignatureDef contains the following output(s):\n",
      "    outputs['__saved_model_init_op'] tensor_info:\n",
      "        dtype: DT_INVALID\n",
      "        shape: unknown_rank\n",
      "        name: NoOp\n",
      "  Method name is: \n",
      "\n",
      "signature_def['serving_default']:\n",
      "  The given SavedModel SignatureDef contains the following input(s):\n",
      "    inputs['input_1'] tensor_info:\n",
      "        dtype: DT_FLOAT\n",
      "        shape: (-1, 224, 224, 3)\n",
      "        name: serving_default_input_1:0\n",
      "  The given SavedModel SignatureDef contains the following output(s):\n",
      "    outputs['probs'] tensor_info:\n",
      "        dtype: DT_FLOAT\n",
      "        shape: (-1, 1000)\n",
      "        name: PartitionedCall:0\n",
      "  Method name is: tensorflow/serving/predict\n",
      "WARNING:tensorflow:From /home/xia/software/miniconda3/envs/tf_2.1/lib/python3.7/site-packages/tensorflow_core/python/ops/resource_variable_ops.py:1786: calling BaseResourceVariable.__init__ (from tensorflow.python.ops.resource_variable_ops) with constraint is deprecated and will be removed in a future version.\n",
      "Instructions for updating:\n",
      "If using Keras pass *_constraint arguments to layers.\n",
      "\n",
      "Defined Functions:\n",
      "  Function Name: '__call__'\n",
      "    Option #1\n",
      "      Callable with:\n",
      "        Argument #1\n",
      "          inputs: TensorSpec(shape=(None, 224, 224, 3), dtype=tf.float32, name='inputs')\n",
      "        Argument #2\n",
      "          DType: bool\n",
      "          Value: True\n",
      "        Argument #3\n",
      "          DType: NoneType\n",
      "          Value: None\n",
      "    Option #2\n",
      "      Callable with:\n",
      "        Argument #1\n",
      "          input_1: TensorSpec(shape=(None, 224, 224, 3), dtype=tf.float32, name='input_1')\n",
      "        Argument #2\n",
      "          DType: bool\n",
      "          Value: True\n",
      "        Argument #3\n",
      "          DType: NoneType\n",
      "          Value: None\n",
      "    Option #3\n",
      "      Callable with:\n",
      "        Argument #1\n",
      "          input_1: TensorSpec(shape=(None, 224, 224, 3), dtype=tf.float32, name='input_1')\n",
      "        Argument #2\n",
      "          DType: bool\n",
      "          Value: False\n",
      "        Argument #3\n",
      "          DType: NoneType\n",
      "          Value: None\n",
      "    Option #4\n",
      "      Callable with:\n",
      "        Argument #1\n",
      "          inputs: TensorSpec(shape=(None, 224, 224, 3), dtype=tf.float32, name='inputs')\n",
      "        Argument #2\n",
      "          DType: bool\n",
      "          Value: False\n",
      "        Argument #3\n",
      "          DType: NoneType\n",
      "          Value: None\n",
      "\n",
      "  Function Name: '_default_save_signature'\n",
      "    Option #1\n",
      "      Callable with:\n",
      "        Argument #1\n",
      "          input_1: TensorSpec(shape=(None, 224, 224, 3), dtype=tf.float32, name='input_1')\n",
      "\n",
      "  Function Name: 'call_and_return_all_conditional_losses'\n",
      "    Option #1\n",
      "      Callable with:\n",
      "        Argument #1\n",
      "          inputs: TensorSpec(shape=(None, 224, 224, 3), dtype=tf.float32, name='inputs')\n",
      "        Argument #2\n",
      "          DType: bool\n",
      "          Value: False\n",
      "        Argument #3\n",
      "          DType: NoneType\n",
      "          Value: None\n",
      "    Option #2\n",
      "      Callable with:\n",
      "        Argument #1\n",
      "          input_1: TensorSpec(shape=(None, 224, 224, 3), dtype=tf.float32, name='input_1')\n",
      "        Argument #2\n",
      "          DType: bool\n",
      "          Value: True\n",
      "        Argument #3\n",
      "          DType: NoneType\n",
      "          Value: None\n",
      "    Option #3\n",
      "      Callable with:\n",
      "        Argument #1\n",
      "          input_1: TensorSpec(shape=(None, 224, 224, 3), dtype=tf.float32, name='input_1')\n",
      "        Argument #2\n",
      "          DType: bool\n",
      "          Value: False\n",
      "        Argument #3\n",
      "          DType: NoneType\n",
      "          Value: None\n",
      "    Option #4\n",
      "      Callable with:\n",
      "        Argument #1\n",
      "          inputs: TensorSpec(shape=(None, 224, 224, 3), dtype=tf.float32, name='inputs')\n",
      "        Argument #2\n",
      "          DType: bool\n",
      "          Value: True\n",
      "        Argument #3\n",
      "          DType: NoneType\n",
      "          Value: None\n"
     ]
    }
   ],
   "source": [
    "!saved_model_cli show --all --dir resnet50_saved_model_TFTRT_FP32"
   ]
  },
  {
   "cell_type": "markdown",
   "metadata": {
    "id": "Vd2DoGUp8ivj"
   },
   "source": [
    "Next, we load and test the TF-TRT FP32 model."
   ]
  },
  {
   "cell_type": "code",
   "execution_count": 4,
   "metadata": {
    "id": "rf97K_rxvwRm"
   },
   "outputs": [],
   "source": [
    "def predict_tftrt(input_saved_model):\n",
    "    \"\"\"Runs prediction on a single image and shows the result.\n",
    "    input_saved_model (string): Name of the input model stored in the current dir\n",
    "    \"\"\"\n",
    "    img_path = './data/img0.JPG'  # Siberian_husky\n",
    "    img = image.load_img(img_path, target_size=(224, 224))\n",
    "    x = image.img_to_array(img)\n",
    "    x = np.expand_dims(x, axis=0)\n",
    "    x = preprocess_input(x)\n",
    "    x = tf.constant(x)\n",
    "    \n",
    "    saved_model_loaded = tf.saved_model.load(input_saved_model, tags=[tag_constants.SERVING])\n",
    "    signature_keys = list(saved_model_loaded.signatures.keys())\n",
    "    print(signature_keys)\n",
    "\n",
    "    infer = saved_model_loaded.signatures['serving_default']\n",
    "    print(infer.structured_outputs)\n",
    "\n",
    "    labeling = infer(x)\n",
    "    preds = labeling['probs'].numpy()\n",
    "    print('{} - Predicted: {}'.format(img_path, decode_predictions(preds, top=3)[0]))\n",
    "    plt.subplot(2,2,1)\n",
    "    plt.imshow(img);\n",
    "    plt.axis('off');\n",
    "    plt.title(decode_predictions(preds, top=3)[0][0][1])"
   ]
  },
  {
   "cell_type": "code",
   "execution_count": 5,
   "metadata": {
    "colab": {
     "base_uri": "https://localhost:8080/",
     "height": 197
    },
    "executionInfo": {
     "elapsed": 40675,
     "status": "ok",
     "timestamp": 1602669936087,
     "user": {
      "displayName": "",
      "photoUrl": "",
      "userId": ""
     },
     "user_tz": -480
    },
    "id": "pRK0pRE-snvb",
    "outputId": "831427aa-b635-4b4b-d4e2-58aae7c7e4b2"
   },
   "outputs": [
    {
     "name": "stdout",
     "output_type": "stream",
     "text": [
      "['serving_default']\n",
      "{'probs': TensorSpec(shape=(None, 1000), dtype=tf.float32, name='probs')}\n",
      "./data/img0.JPG - Predicted: [('n02110185', 'Siberian_husky', 0.55662125), ('n02109961', 'Eskimo_dog', 0.4173722), ('n02110063', 'malamute', 0.020951565)]\n"
     ]
    },
    {
     "data": {
      "image/png": "[encoded data removed]",
      "text/plain": [
       "<Figure size 432x288 with 1 Axes>"
      ]
     },
     "metadata": {
      "needs_background": "light"
     },
     "output_type": "display_data"
    }
   ],
   "source": [
    "predict_tftrt('resnet50_saved_model_TFTRT_FP32')"
   ]
  },
  {
   "cell_type": "code",
   "execution_count": 6,
   "metadata": {
    "id": "z9b5j6jMvwRt"
   },
   "outputs": [],
   "source": [
    "def benchmark_tftrt(input_saved_model):\n",
    "    saved_model_loaded = tf.saved_model.load(input_saved_model, tags=[tag_constants.SERVING])\n",
    "    infer = saved_model_loaded.signatures['serving_default']\n",
    "\n",
    "    N_warmup_run = 50\n",
    "    N_run = 1000\n",
    "    elapsed_time = []\n",
    "\n",
    "    for i in range(N_warmup_run):\n",
    "      labeling = infer(batched_input)\n",
    "\n",
    "    for i in range(N_run):\n",
    "      start_time = time.time()\n",
    "      labeling = infer(batched_input)\n",
    "      #prob = labeling['probs'].numpy()\n",
    "      end_time = time.time()\n",
    "      elapsed_time = np.append(elapsed_time, end_time - start_time)\n",
    "      if i % 50 == 0:\n",
    "        print('Step {}: {:4.1f}ms'.format(i, (elapsed_time[-50:].mean()) * 1000))\n",
    "\n",
    "    print('Throughput: {:.0f} images/s'.format(N_run * batch_size / elapsed_time.sum()))"
   ]
  },
  {
   "cell_type": "code",
   "execution_count": 9,
   "metadata": {
    "colab": {
     "base_uri": "https://localhost:8080/",
     "height": 370
    },
    "executionInfo": {
     "elapsed": 35080,
     "status": "ok",
     "timestamp": 1602669990762,
     "user": {
      "displayName": "",
      "photoUrl": "",
      "userId": ""
     },
     "user_tz": -480
    },
    "id": "ai6bxNcNszHc",
    "outputId": "1c40119e-8517-4635-d731-38d2869ddc09"
   },
   "outputs": [
    {
     "name": "stdout",
     "output_type": "stream",
     "text": [
      "Step 0: 21.7ms\n",
      "Step 50: 21.7ms\n",
      "Step 100: 21.7ms\n",
      "Step 150: 21.9ms\n",
      "Step 200: 21.8ms\n",
      "Step 250: 21.7ms\n",
      "Step 300: 21.7ms\n",
      "Step 350: 21.8ms\n",
      "Step 400: 21.8ms\n",
      "Step 450: 21.8ms\n",
      "Step 500: 21.8ms\n",
      "Step 550: 21.8ms\n",
      "Step 600: 21.9ms\n",
      "Step 650: 22.0ms\n",
      "Step 700: 23.0ms\n",
      "Step 750: 23.5ms\n",
      "Step 800: 24.0ms\n",
      "Step 850: 22.4ms\n",
      "Step 900: 21.9ms\n",
      "Step 950: 21.9ms\n",
      "Throughput: 362 images/s\n"
     ]
    }
   ],
   "source": [
    "benchmark_tftrt('resnet50_saved_model_TFTRT_FP32')"
   ]
  },
  {
   "cell_type": "markdown",
   "metadata": {
    "id": "G2F8t6cPkVQS"
   },
   "source": [
    "### TF-TRT FP16 model\n",
    "We next convert the native TF FP32 saved model to TF-TRT FP16 model."
   ]
  },
  {
   "cell_type": "code",
   "execution_count": 10,
   "metadata": {
    "colab": {
     "base_uri": "https://localhost:8080/",
     "height": 118
    },
    "executionInfo": {
     "elapsed": 26366,
     "status": "ok",
     "timestamp": 1602670023410,
     "user": {
      "displayName": "",
      "photoUrl": "",
      "userId": ""
     },
     "user_tz": -480
    },
    "id": "0ia_AlSDkVQT",
    "outputId": "cdb43081-f05f-448e-bf28-4fb22e2c6ef8"
   },
   "outputs": [
    {
     "name": "stdout",
     "output_type": "stream",
     "text": [
      "Converting to TF-TRT FP16...\n",
      "INFO:tensorflow:Linked TensorRT version: (0, 0, 0)\n",
      "INFO:tensorflow:Loaded TensorRT version: (0, 0, 0)\n",
      "WARNING:tensorflow:From /home/xia/software/miniconda3/envs/tf_2.1/lib/python3.7/site-packages/tensorflow_core/python/ops/resource_variable_ops.py:1786: calling BaseResourceVariable.__init__ (from tensorflow.python.ops.resource_variable_ops) with constraint is deprecated and will be removed in a future version.\n",
      "Instructions for updating:\n",
      "If using Keras pass *_constraint arguments to layers.\n",
      "INFO:tensorflow:Assets written to: resnet50_saved_model_TFTRT_FP16/assets\n",
      "Done Converting to TF-TRT FP16\n"
     ]
    }
   ],
   "source": [
    "print('Converting to TF-TRT FP16...')\n",
    "conversion_params = trt.DEFAULT_TRT_CONVERSION_PARAMS._replace(\n",
    "    precision_mode=trt.TrtPrecisionMode.FP16,\n",
    "    max_workspace_size_bytes=8000000000)\n",
    "converter = trt.TrtGraphConverterV2(\n",
    "   input_saved_model_dir='resnet50_saved_model', conversion_params=conversion_params)\n",
    "converter.convert()\n",
    "converter.save(output_saved_model_dir='resnet50_saved_model_TFTRT_FP16')\n",
    "print('Done Converting to TF-TRT FP16')"
   ]
  },
  {
   "cell_type": "code",
   "execution_count": 11,
   "metadata": {
    "colab": {
     "base_uri": "https://localhost:8080/",
     "height": 197
    },
    "executionInfo": {
     "elapsed": 38526,
     "status": "ok",
     "timestamp": 1602670035579,
     "user": {
      "displayName": "",
      "photoUrl": "",
      "userId": ""
     },
     "user_tz": -480
    },
    "id": "yTDbB6DWn0kJ",
    "outputId": "49e947b8-cffc-436c-f53b-cb1832407fe3"
   },
   "outputs": [
    {
     "name": "stdout",
     "output_type": "stream",
     "text": [
      "['serving_default']\n",
      "{'probs': TensorSpec(shape=(None, 1000), dtype=tf.float32, name='probs')}\n",
      "./data/img0.JPG - Predicted: [('n02110185', 'Siberian_husky', 0.55662125), ('n02109961', 'Eskimo_dog', 0.4173722), ('n02110063', 'malamute', 0.020951565)]\n"
     ]
    },
    {
     "data": {
      "image/png": "[encoded data removed]",
      "text/plain": [
       "<Figure size 432x288 with 1 Axes>"
      ]
     },
     "metadata": {
      "needs_background": "light"
     },
     "output_type": "display_data"
    }
   ],
   "source": [
    "predict_tftrt('resnet50_saved_model_TFTRT_FP16')"
   ]
  },
  {
   "cell_type": "code",
   "execution_count": 12,
   "metadata": {
    "colab": {
     "base_uri": "https://localhost:8080/",
     "height": 423
    },
    "executionInfo": {
     "elapsed": 65142,
     "status": "ok",
     "timestamp": 1602670062198,
     "user": {
      "displayName": "",
      "photoUrl": "",
      "userId": ""
     },
     "user_tz": -480
    },
    "id": "G_gerN5j9l6U",
    "outputId": "5edb423b-ada9-47a2-e794-0bec67804f75"
   },
   "outputs": [
    {
     "name": "stdout",
     "output_type": "stream",
     "text": [
      "Step 0: 21.7ms\n",
      "Step 50: 21.5ms\n",
      "Step 100: 22.1ms\n",
      "Step 150: 23.6ms\n",
      "Step 200: 21.9ms\n",
      "Step 250: 22.0ms\n",
      "Step 300: 21.8ms\n",
      "Step 350: 21.9ms\n",
      "Step 400: 22.8ms\n",
      "Step 450: 22.6ms\n",
      "Step 500: 22.4ms\n",
      "Step 550: 23.1ms\n",
      "Step 600: 22.6ms\n",
      "Step 650: 22.7ms\n",
      "Step 700: 22.3ms\n",
      "Step 750: 23.1ms\n",
      "Step 800: 22.0ms\n",
      "Step 850: 22.0ms\n",
      "Step 900: 22.0ms\n",
      "Step 950: 22.1ms\n",
      "Throughput: 358 images/s\n"
     ]
    }
   ],
   "source": [
    "benchmark_tftrt('resnet50_saved_model_TFTRT_FP16')"
   ]
  },
  {
   "cell_type": "markdown",
   "metadata": {
    "id": "qKSJ-oizkVQY"
   },
   "source": [
    "### TF-TRT INT8 model\n",
    "\n",
    "Creating TF-TRT INT8 model requires a small calibration dataset. This data set ideally should represent the test data in production well, and will be used to create a value histogram for each layer in the neural network for effective 8-bit quantization.  \n",
    "\n",
    "Herein, for demonstration purposes, we take only the 4 images that we downloaded for calibration. In production, this set should be more representative of the production data.\n",
    "\n",
    "Due to Colab memory limit which sometime causes TensorRT to crash, to proceed, first, restart the runtime by pressing CTRL+M or select *Runtime -> Restart runtime...* or simply execute the next cell."
   ]
  },
  {
   "cell_type": "code",
   "execution_count": null,
   "metadata": {
    "id": "oRXVurzh6o5T"
   },
   "outputs": [],
   "source": [
    "import os\n",
    "os.kill(os.getpid(), 9)"
   ]
  },
  {
   "cell_type": "code",
   "execution_count": 2,
   "metadata": {
    "id": "DGXjp3K_6x59"
   },
   "outputs": [],
   "source": [
    "\n",
    "from __future__ import absolute_import, division, print_function, unicode_literals\n",
    "import os\n",
    "import time\n",
    "\n",
    "import numpy as np\n",
    "import matplotlib.pyplot as plt\n",
    "\n",
    "import tensorflow as tf\n",
    "from tensorflow import keras\n",
    "from tensorflow.python.compiler.tensorrt import trt_convert as trt\n",
    "from tensorflow.python.saved_model import tag_constants\n",
    "from tensorflow.keras.applications.resnet50 import ResNet50\n",
    "from tensorflow.keras.preprocessing import image\n",
    "from tensorflow.keras.applications.resnet50 import preprocess_input, decode_predictions"
   ]
  },
  {
   "cell_type": "code",
   "execution_count": 3,
   "metadata": {},
   "outputs": [
    {
     "name": "stdout",
     "output_type": "stream",
     "text": [
      "[PhysicalDevice(name='/physical_device:GPU:0', device_type='GPU')]\n"
     ]
    }
   ],
   "source": [
    "gpus= tf.config.list_physical_devices('GPU')\n",
    "print(gpus) \n",
    "tf.config.experimental.set_memory_growth(gpus[0], True) "
   ]
  },
  {
   "cell_type": "code",
   "execution_count": 4,
   "metadata": {
    "colab": {
     "base_uri": "https://localhost:8080/",
     "height": 35
    },
    "id": "01lqtLJzvwSS",
    "outputId": "cca3c2d1-a697-4a25-c597-d16619da56d1"
   },
   "outputs": [
    {
     "name": "stdout",
     "output_type": "stream",
     "text": [
      "batched_input shape:  (8, 224, 224, 3)\n"
     ]
    }
   ],
   "source": [
    "batch_size = 8\n",
    "batched_input = np.zeros((batch_size, 224, 224, 3), dtype=np.float32)\n",
    "\n",
    "for i in range(batch_size):\n",
    "  img_path = './data/img%d.JPG' % (i % 4)\n",
    "  img = image.load_img(img_path, target_size=(224, 224))\n",
    "  x = image.img_to_array(img)\n",
    "  x = np.expand_dims(x, axis=0)\n",
    "  x = preprocess_input(x)\n",
    "  batched_input[i, :] = x\n",
    "batched_input = tf.constant(batched_input)\n",
    "print('batched_input shape: ', batched_input.shape)"
   ]
  },
  {
   "cell_type": "code",
   "execution_count": 4,
   "metadata": {
    "colab": {
     "base_uri": "https://localhost:8080/",
     "height": 201
    },
    "id": "iM8DshiYkVQe",
    "outputId": "d3e88347-e060-4fd2-de2b-79cb38fc8442",
    "scrolled": false
   },
   "outputs": [
    {
     "name": "stdout",
     "output_type": "stream",
     "text": [
      "Converting to TF-TRT INT8...\n",
      "INFO:tensorflow:Linked TensorRT version: (0, 0, 0)\n",
      "INFO:tensorflow:Loaded TensorRT version: (0, 0, 0)\n",
      "WARNING:tensorflow:From /home/xia/software/miniconda3/envs/tf_2.1/lib/python3.7/site-packages/tensorflow_core/python/ops/resource_variable_ops.py:1786: calling BaseResourceVariable.__init__ (from tensorflow.python.ops.resource_variable_ops) with constraint is deprecated and will be removed in a future version.\n",
      "Instructions for updating:\n",
      "If using Keras pass *_constraint arguments to layers.\n",
      "INFO:tensorflow:Assets written to: resnet50_saved_model_TFTRT_INT8/assets\n",
      "Done Converting to TF-TRT INT8\n"
     ]
    }
   ],
   "source": [
    "print('Converting to TF-TRT INT8...')\n",
    "conversion_params = trt.DEFAULT_TRT_CONVERSION_PARAMS._replace(\n",
    "    precision_mode=trt.TrtPrecisionMode.INT8, \n",
    "    max_workspace_size_bytes=8000000000, \n",
    "    use_calibration=True)\n",
    "converter = trt.TrtGraphConverterV2(\n",
    "    input_saved_model_dir='resnet50_saved_model', \n",
    "    conversion_params=conversion_params)\n",
    "\n",
    "def calibration_input_fn():\n",
    "    yield (batched_input, )\n",
    "converter.convert(calibration_input_fn=calibration_input_fn)\n",
    "\n",
    "converter.save(output_saved_model_dir='resnet50_saved_model_TFTRT_INT8')\n",
    "print('Done Converting to TF-TRT INT8')"
   ]
  },
  {
   "cell_type": "code",
   "execution_count": 5,
   "metadata": {
    "id": "gu0CSNGVvwSY"
   },
   "outputs": [],
   "source": [
    "def predict_tftrt(input_saved_model):\n",
    "    \"\"\"Runs prediction on a single image and shows the result.\n",
    "    input_saved_model (string): Name of the input model stored in the current dir\n",
    "    \"\"\"\n",
    "    img_path = './data/img0.JPG'  # Siberian_husky\n",
    "    img = image.load_img(img_path, target_size=(224, 224))\n",
    "    x = image.img_to_array(img)\n",
    "    x = np.expand_dims(x, axis=0)\n",
    "    x = preprocess_input(x)\n",
    "    x = tf.constant(x)\n",
    "    \n",
    "    saved_model_loaded = tf.saved_model.load(input_saved_model, tags=[tag_constants.SERVING])\n",
    "    signature_keys = list(saved_model_loaded.signatures.keys())\n",
    "    print(signature_keys)\n",
    "\n",
    "    infer = saved_model_loaded.signatures['serving_default']\n",
    "    print(infer.structured_outputs)\n",
    "\n",
    "    labeling = infer(x)\n",
    "    preds = labeling['probs'].numpy()\n",
    "    print('{} - Predicted: {}'.format(img_path, decode_predictions(preds, top=3)[0]))\n",
    "    plt.subplot(2,2,1)\n",
    "    plt.imshow(img);\n",
    "    plt.axis('off');\n",
    "    plt.title(decode_predictions(preds, top=3)[0][0][1])"
   ]
  },
  {
   "cell_type": "code",
   "execution_count": 6,
   "metadata": {
    "colab": {
     "base_uri": "https://localhost:8080/",
     "height": 238
    },
    "id": "DSKfqPDGEv7U",
    "outputId": "028545e1-26e5-4fb6-930f-7b10af2c82fe"
   },
   "outputs": [
    {
     "name": "stdout",
     "output_type": "stream",
     "text": [
      "['serving_default']\n",
      "{'probs': TensorSpec(shape=(None, 1000), dtype=tf.float32, name='probs')}\n",
      "./data/img0.JPG - Predicted: [('n02110185', 'Siberian_husky', 0.55662125), ('n02109961', 'Eskimo_dog', 0.4173722), ('n02110063', 'malamute', 0.020951565)]\n"
     ]
    },
    {
     "data": {
      "image/png": "[encoded data removed]",
      "text/plain": [
       "<Figure size 432x288 with 1 Axes>"
      ]
     },
     "metadata": {
      "needs_background": "light"
     },
     "output_type": "display_data"
    }
   ],
   "source": [
    "predict_tftrt('resnet50_saved_model_TFTRT_INT8')"
   ]
  },
  {
   "cell_type": "code",
   "execution_count": 6,
   "metadata": {
    "id": "DMVOHSo_vwSd"
   },
   "outputs": [],
   "source": [
    "def benchmark_tftrt(input_saved_model):\n",
    "    saved_model_loaded = tf.saved_model.load(input_saved_model, tags=[tag_constants.SERVING])\n",
    "    infer = saved_model_loaded.signatures['serving_default']\n",
    "\n",
    "    N_warmup_run = 50\n",
    "    N_run = 1000\n",
    "    elapsed_time = []\n",
    "\n",
    "    for i in range(N_warmup_run):\n",
    "      labeling = infer(batched_input)\n",
    "\n",
    "    for i in range(N_run):\n",
    "      start_time = time.time()\n",
    "      labeling = infer(batched_input)\n",
    "      #prob = labeling['probs'].numpy()\n",
    "      end_time = time.time()\n",
    "      elapsed_time = np.append(elapsed_time, end_time - start_time)\n",
    "      if i % 50 == 0:\n",
    "        print('Step {}: {:4.1f}ms'.format(i, (elapsed_time[-50:].mean()) * 1000))\n",
    "\n",
    "    print('Throughput: {:.0f} images/s'.format(N_run * batch_size / elapsed_time.sum()))"
   ]
  },
  {
   "cell_type": "code",
   "execution_count": 7,
   "metadata": {
    "id": "2mM9D3BTEzQS"
   },
   "outputs": [
    {
     "name": "stdout",
     "output_type": "stream",
     "text": [
      "Step 0: 21.6ms\n",
      "Step 50: 21.9ms\n",
      "Step 100: 21.7ms\n",
      "Step 150: 21.7ms\n",
      "Step 200: 22.1ms\n",
      "Step 250: 21.9ms\n",
      "Step 300: 24.2ms\n",
      "Step 350: 22.8ms\n",
      "Step 400: 23.9ms\n",
      "Step 450: 23.1ms\n",
      "Step 500: 22.9ms\n",
      "Step 550: 22.2ms\n",
      "Step 600: 21.9ms\n",
      "Step 650: 22.3ms\n",
      "Step 700: 22.1ms\n",
      "Step 750: 23.1ms\n",
      "Step 800: 22.0ms\n",
      "Step 850: 22.0ms\n",
      "Step 900: 22.0ms\n",
      "Step 950: 22.0ms\n",
      "Throughput: 357 images/s\n"
     ]
    }
   ],
   "source": [
    "benchmark_tftrt('resnet50_saved_model_TFTRT_INT8')"
   ]
  },
  {
   "cell_type": "markdown",
   "metadata": {
    "id": "I13snJ9VkVQh"
   },
   "source": [
    "## Conclusion\n",
    "In this notebook, we have demonstrated the process of creating TF-TRT FP32, FP16 and INT8 inference models from an original Keras FP32 model, as well as verify their speed and accuracy. \n",
    "\n",
    "### What's next\n",
    "Try TF-TRT on your own model and data, and experience the simplicity and speed up it offers."
   ]
  }
 ],
 "metadata": {
  "accelerator": "GPU",
  "colab": {
   "machine_shape": "hm",
   "name": "“Colab-TF20-TF-TRT-inference-from-Keras-saved-model.ipynb”的副本",
   "provenance": [
    {
     "file_id": "https://github.com/vinhngx/tensorrt/blob/vinhn-tf20-notebook/tftrt/examples/image-classification/TFv2-TF-TRT-inference-from-Keras-saved-model.ipynb",
     "timestamp": 1602670113049
    }
   ]
  },
  "kernelspec": {
   "display_name": "Python 3",
   "language": "python",
   "name": "python3"
  },
  "language_info": {
   "codemirror_mode": {
    "name": "ipython",
    "version": 3
   },
   "file_extension": ".py",
   "mimetype": "text/x-python",
   "name": "python",
   "nbconvert_exporter": "python",
   "pygments_lexer": "ipython3",
   "version": "3.7.9"
  }
 },
 "nbformat": 4,
 "nbformat_minor": 1
}
